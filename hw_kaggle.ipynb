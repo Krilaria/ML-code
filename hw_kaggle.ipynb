{
  "nbformat": 4,
  "nbformat_minor": 0,
  "metadata": {
    "colab": {
      "provenance": []
    },
    "kernelspec": {
      "name": "python3",
      "display_name": "Python 3"
    },
    "language_info": {
      "name": "python"
    }
  },
  "cells": [
    {
      "cell_type": "markdown",
      "metadata": {
        "id": "TK7oX5qdEEYr"
      },
      "source": [
        "# Домашнее задание. Решение конкурса на kaggle.com\n",
        "\n",
        "Это домашнее задание посвящено полноценному решению задачи машинного обучения."
      ]
    },
    {
      "cell_type": "markdown",
      "metadata": {
        "id": "zlB-owfaEEYs"
      },
      "source": [
        "Есть две части этого домашнего задания: \n",
        "\n",
        "### Отправить ваши предсказания в Stepik.\n",
        "За прохождение определенных порогов будут начисляться баллы. Эта часть оценивается из 5 баллов.\n",
        "\n",
        "1) $1.00 \\geqslant score \\geqslant 0.84$ --- 5 баллов\n",
        "\n",
        "2) $0.84 > score \\geqslant 0.77$ --- 4 балла\n",
        "\n",
        "3) $0.77 > score \\geqslant 0.70$ --- 3 балла\n",
        "\n",
        "4) $0.70 > score \\geqslant 0.65$ --- 2 балла\n",
        "\n",
        "5) $0.65 > score \\geqslant 0.6$ --- 1 балл\n",
        "\n",
        "6) $0.60 > score$ --- 0 баллов\n",
        "\n",
        "Для этого мы предварительно разделили данные в задании на две части.\n",
        "* `train.csv`. На этом наборе данных вам необходимо создать и обучить модель. Подробное описание файла есть в ноутбуке.\n",
        "* `test.csv`. В каждой строчке файла `test.csv` указаны признаки тестовых объектов. Предсказания для этого набора необходимо записать в файл submission.csv и сдать в соответствующий шаг на Stepik. Количество попыток ограничено 100 штук.\n",
        "\n",
        "Отправлять в Stepik вы будете файл с ответами `my_submission.csv`. В этом файле вам необходимо для каждого объекта из датасета предсказать вероятность класса 1. Мы подготовили для вас файл с примером посылки `submission.csv`. Ваш файл должен быть оформлен таким же образом. В ноутбуке есть пример оформления файла посылки. Для отправки файла с предсказаниями на Stepik есть отдельный шаг.\n",
        "\n",
        "### Сделать полноценный отчет о вашей работе.\n",
        "Опишите, как вы обработали данные, какие модели попробовали и какие результаты получились (максимум 10 баллов). За каждую выполненную часть будет начислено определенное количество баллов. В этом пункте вам необходимо отправить файл в формате .ipynb на Stepik --- для этого в домашнем задании есть отдельный шаг. Этот пункт оценивается из 10 баллов.\n",
        "\n",
        "**Вторая часть будет проверяться в формате peer-review. Т.е. вашу посылку на Stepik будут проверять 3 других студента, и медианное значение их оценок будет выставлено. Чтобы получить баллы, вам также нужно будет проверить трех других учеников. Это станет доступно после того, как вы сдадите задание сами.**\n",
        "\n",
        "### Контест на Kaggle\n",
        "Для вашего удобства мы подготовили [контест на Kaggle](https://www.kaggle.com/c/advanced-dls-spring-2021/). Тестирующая система на Kaggle выдает те же баллы, что и Stepik. Мы рекомендуем в качестве основной тестирующей системы использовать именно Kaggle, а затем сдать лучшую посылку на Stepik. Так вы привыкните работать с Kaggle. \n",
        "\n",
        "Проблема для российских пользователей Kaggle заключается в том, что подтверждение аккаунта по номеру телефона работает с перебоями или не работает вообще. Без подтвержденного номера телефона вы не сможете совершать посылки в kaggle. Если у вас возникла такая проблема, мы советуем следующие шаги:\n",
        "* Попробовать зарегистрировать аккаунт с аутентификацией через gmail. В таком случае, аккаунт должен работать без подтверждения номера телефона.\n",
        "* Если у вас есть не российский номер, используйте его для верификации аккаунта.\n",
        "* Если на номер телефона не приходит смс для верификации аккаунта, обратитесь в службу поддержки kaggle. Они с переменным успехом умеют подтверждать аккаунты вручную.\n",
        "* Если все же подтвердить аккаунт и получить доступ к сдаче заданий не удалось, используйте только сдачу в Stepik.\n",
        "\n",
        "### Несколько замечаний по выполнению работы\n",
        "* Во всех пунктах указания это минимальный набор вещей, которые стоит сделать. Если вы можете сделать какой-то шаг лучше или добавить что-то свое --- дерзайте!\n",
        "* Пожалуйста, перед сдачей ноутбука убедитесь, что работа чистая и понятная. Это значительно облегчит проверку и повысит ваши ожидаемые баллы. \n",
        "* Если у вас будут проблемы с решением или хочется совета, то пишите в наш чат в телеграме.\n",
        "\n",
        "\n",
        "Данные: [train.csv](https://drive.google.com/file/d/1ERwQ5odiK1Zvi1LtjpkzCMUswYsAX8_K/view?usp=share_link), \n",
        "[test.csv](https://drive.google.com/file/d/1fGw_-RFwvn_LEdt91Jq-7A-wzG6mmH8r/view?usp=share_link), [submission.csv](https://drive.google.com/file/d/199Mt4OYZNaelT83U-HGDsEYs2YcUGQ6y/view?usp=share_link). \n",
        "\n",
        "Если ссылки на данные не работают, их можно скачать [на Kaggle](https://www.kaggle.com/competitions/advanced-dls-spring-2021/data)."
      ]
    },
    {
      "cell_type": "markdown",
      "metadata": {
        "id": "Tu_JvqcBEN8Y"
      },
      "source": [
        "# Как проверять?\n",
        "\n",
        "Ставьте полный балл, если выполнены все рекомендации или сделано что-то более интересное и сложное. За каждый отсустствующий пункт из рекомендации снижайте 1 балл.\n",
        "\n",
        "**Если решение верное, но не удовлетворяет вашим эстетическим предпочтениям, за это баллы снижать не нужно.**"
      ]
    },
    {
      "cell_type": "markdown",
      "metadata": {
        "id": "ninJ63mJEEYt"
      },
      "source": [
        "# Метрика\n",
        "\n",
        "Перед решением любой задачи важно понимать, как будет оцениваться ваше решение. В данном случае мы используем стандартную для задачи классификации метрику ROC-AUC. Ее можно вычислить, используя только предсказанные вероятности и истинные классы без конкретного порога классификации + она раотает даже если классы в данных сильно несбалансированны (примеров одного класса в десятки раз больше примеров длугого). Именно поэтому она очень удобна для соревнований.\n",
        "\n",
        "Посчитать ее легко:\n"
      ]
    },
    {
      "cell_type": "code",
      "metadata": {
        "id": "SQIrka7yEEYu",
        "outputId": "510adc02-b5f3-4ae3-80bf-ebee11a6ed5d",
        "colab": {
          "base_uri": "https://localhost:8080/"
        }
      },
      "source": [
        "from sklearn.metrics import roc_auc_score\n",
        "\n",
        "y_true = [\n",
        "    0,\n",
        "    1,\n",
        "    1,\n",
        "    0,\n",
        "    1\n",
        "]\n",
        "\n",
        "y_predictions = [\n",
        "    0.1,\n",
        "    0.9,\n",
        "    0.4,\n",
        "    0.6,\n",
        "    0.61\n",
        "]\n",
        "\n",
        "roc_auc_score(y_true, y_predictions)"
      ],
      "execution_count": 1,
      "outputs": [
        {
          "output_type": "execute_result",
          "data": {
            "text/plain": [
              "0.8333333333333333"
            ]
          },
          "metadata": {},
          "execution_count": 1
        }
      ]
    },
    {
      "cell_type": "markdown",
      "metadata": {
        "id": "IrDNNkNTEEYz"
      },
      "source": [
        "# Первая часть. Исследование"
      ]
    },
    {
      "cell_type": "code",
      "metadata": {
        "id": "lzLqEeZKEEYz"
      },
      "source": [
        "import pandas as pd\n",
        "import numpy as np\n",
        "from matplotlib import pyplot as plt"
      ],
      "execution_count": 2,
      "outputs": []
    },
    {
      "cell_type": "markdown",
      "metadata": {
        "id": "LOlxdURSEEY3"
      },
      "source": [
        "## Загрузка данных (2 балла)\n",
        "\n",
        "1) Посмотрите на случайные строчки. \n",
        "\n",
        "2) Посмотрите, есть ли в датасете незаполненные значения (nan'ы) с помощью data.isna() или data.info() и, если нужно, замените их на что-то. Будет хорошо, если вы построите табличку с количеством nan в каждой колонке."
      ]
    },
    {
      "cell_type": "code",
      "source": [
        "!gdown 1ERwQ5odiK1Zvi1LtjpkzCMUswYsAX8_K  # train.csv\n",
        "!gdown 1fGw_-RFwvn_LEdt91Jq-7A-wzG6mmH8r  # test.csv\n",
        "!gdown 199Mt4OYZNaelT83U-HGDsEYs2YcUGQ6y  # submission.csv"
      ],
      "metadata": {
        "id": "XULA1f3ch6RL",
        "outputId": "21ded0f2-631a-415a-a30d-fa80717e8e85",
        "colab": {
          "base_uri": "https://localhost:8080/"
        }
      },
      "execution_count": 3,
      "outputs": [
        {
          "output_type": "stream",
          "name": "stdout",
          "text": [
            "Downloading...\n",
            "From: https://drive.google.com/uc?id=1ERwQ5odiK1Zvi1LtjpkzCMUswYsAX8_K\n",
            "To: /content/train.csv\n",
            "100% 664k/664k [00:00<00:00, 84.8MB/s]\n",
            "Downloading...\n",
            "From: https://drive.google.com/uc?id=1fGw_-RFwvn_LEdt91Jq-7A-wzG6mmH8r\n",
            "To: /content/test.csv\n",
            "100% 218k/218k [00:00<00:00, 64.5MB/s]\n",
            "Downloading...\n",
            "From: https://drive.google.com/uc?id=199Mt4OYZNaelT83U-HGDsEYs2YcUGQ6y\n",
            "To: /content/submission.csv\n",
            "100% 14.7k/14.7k [00:00<00:00, 14.4MB/s]\n"
          ]
        }
      ]
    },
    {
      "cell_type": "code",
      "metadata": {
        "id": "pw-Brue9EEY3"
      },
      "source": [
        "data = pd.read_csv('./train.csv')"
      ],
      "execution_count": 4,
      "outputs": []
    },
    {
      "cell_type": "code",
      "metadata": {
        "id": "KgnkkF5bEEY9"
      },
      "source": [
        "# Для вашего удобства списки с именами разных колонок\n",
        "\n",
        "# Числовые признаки\n",
        "num_cols = [\n",
        "    'ClientPeriod',\n",
        "    'MonthlySpending',\n",
        "    'TotalSpent'\n",
        "]\n",
        "\n",
        "# Категориальные признаки\n",
        "cat_cols = [\n",
        "    'Sex',\n",
        "    'IsSeniorCitizen',\n",
        "    'HasPartner',\n",
        "    'HasChild',\n",
        "    'HasPhoneService',\n",
        "    'HasMultiplePhoneNumbers',\n",
        "    'HasInternetService',\n",
        "    'HasOnlineSecurityService',\n",
        "    'HasOnlineBackup',\n",
        "    'HasDeviceProtection',\n",
        "    'HasTechSupportAccess',\n",
        "    'HasOnlineTV',\n",
        "    'HasMovieSubscription',\n",
        "    'HasContractPhone',\n",
        "    'IsBillingPaperless',\n",
        "    'PaymentMethod'\n",
        "]\n",
        "\n",
        "feature_cols = num_cols + cat_cols\n",
        "target_col = 'Churn'"
      ],
      "execution_count": 5,
      "outputs": []
    },
    {
      "cell_type": "code",
      "source": [
        "numeric_indices = np.array([0, 1, 2])\n",
        "categorical_indices = np.array([3, 4, 5, 6, 7, 8, 9, 10, 11, 12, 13, 14, 15, 16, 17, 18])\n",
        "\n",
        "columns = ('ClientPeriod MonthlySpending TotalSpent'\n",
        "           'Sex IsSeniorCitizen HasPartner HasChild HasPhoneService HasMultiplePhoneNumbers HasInternetService HasOnlineSecurityService HasOnlineBackup HasDeviceProtection HasTechSupportAccess HasOnlineTV HasMovieSubscription HasContractPhone IsBillingPaperless PaymentMethod')\n",
        "\n",
        "numeric_data = data[data.columns[numeric_indices]]"
      ],
      "metadata": {
        "id": "5oH3K1DRgOik"
      },
      "execution_count": 6,
      "outputs": []
    },
    {
      "cell_type": "code",
      "metadata": {
        "id": "tHC6gWabEEZA",
        "outputId": "50f261a3-2c4e-4ba4-e655-df2883640a89",
        "colab": {
          "base_uri": "https://localhost:8080/",
          "height": 609
        }
      },
      "source": [
        "# YOUR CODE\n",
        "data #весь датасет\n"
      ],
      "execution_count": 7,
      "outputs": [
        {
          "output_type": "execute_result",
          "data": {
            "text/plain": [
              "      ClientPeriod  MonthlySpending TotalSpent     Sex  IsSeniorCitizen  \\\n",
              "0               55            19.50    1026.35    Male                0   \n",
              "1               72            25.85     1872.2    Male                0   \n",
              "2                1            75.90       75.9    Male                0   \n",
              "3               32            79.30       2570  Female                1   \n",
              "4               60           115.25    6758.45  Female                0   \n",
              "...            ...              ...        ...     ...              ...   \n",
              "5277             3            30.40      82.15    Male                0   \n",
              "5278            50            44.45    2188.45    Male                0   \n",
              "5279             1            55.05      55.05    Male                0   \n",
              "5280            29            76.00    2215.25  Female                0   \n",
              "5281            19            75.90     1375.6  Female                0   \n",
              "\n",
              "     HasPartner HasChild HasPhoneService HasMultiplePhoneNumbers  \\\n",
              "0           Yes      Yes             Yes                      No   \n",
              "1           Yes       No             Yes                     Yes   \n",
              "2            No       No             Yes                      No   \n",
              "3           Yes       No             Yes                     Yes   \n",
              "4           Yes      Yes             Yes                     Yes   \n",
              "...         ...      ...             ...                     ...   \n",
              "5277         No       No              No        No phone service   \n",
              "5278        Yes       No              No        No phone service   \n",
              "5279         No       No             Yes                      No   \n",
              "5280         No       No             Yes                     Yes   \n",
              "5281         No      Yes             Yes                     Yes   \n",
              "\n",
              "     HasInternetService HasOnlineSecurityService      HasOnlineBackup  \\\n",
              "0                    No      No internet service  No internet service   \n",
              "1                    No      No internet service  No internet service   \n",
              "2           Fiber optic                       No                   No   \n",
              "3           Fiber optic                       No                   No   \n",
              "4           Fiber optic                      Yes                  Yes   \n",
              "...                 ...                      ...                  ...   \n",
              "5277                DSL                       No                   No   \n",
              "5278                DSL                      Yes                   No   \n",
              "5279                DSL                       No                   No   \n",
              "5280        Fiber optic                       No                   No   \n",
              "5281                DSL                      Yes                  Yes   \n",
              "\n",
              "      HasDeviceProtection HasTechSupportAccess          HasOnlineTV  \\\n",
              "0     No internet service  No internet service  No internet service   \n",
              "1     No internet service  No internet service  No internet service   \n",
              "2                      No                  Yes                   No   \n",
              "3                     Yes                   No                   No   \n",
              "4                     Yes                  Yes                  Yes   \n",
              "...                   ...                  ...                  ...   \n",
              "5277                   No                  Yes                   No   \n",
              "5278                   No                  Yes                  Yes   \n",
              "5279                  Yes                  Yes                   No   \n",
              "5280                   No                   No                   No   \n",
              "5281                   No                  Yes                  Yes   \n",
              "\n",
              "     HasMovieSubscription HasContractPhone IsBillingPaperless  \\\n",
              "0     No internet service         One year                 No   \n",
              "1     No internet service         Two year                 No   \n",
              "2                      No   Month-to-month                Yes   \n",
              "3                      No   Month-to-month                 No   \n",
              "4                     Yes         Two year                 No   \n",
              "...                   ...              ...                ...   \n",
              "5277                   No   Month-to-month                 No   \n",
              "5278                   No         One year                Yes   \n",
              "5279                   No   Month-to-month                 No   \n",
              "5280                   No   Month-to-month                Yes   \n",
              "5281                   No   Month-to-month                Yes   \n",
              "\n",
              "                  PaymentMethod  Churn  \n",
              "0                  Mailed check      0  \n",
              "1       Credit card (automatic)      0  \n",
              "2              Electronic check      1  \n",
              "3                  Mailed check      0  \n",
              "4       Credit card (automatic)      0  \n",
              "...                         ...    ...  \n",
              "5277           Electronic check      0  \n",
              "5278  Bank transfer (automatic)      0  \n",
              "5279               Mailed check      0  \n",
              "5280    Credit card (automatic)      0  \n",
              "5281               Mailed check      0  \n",
              "\n",
              "[5282 rows x 20 columns]"
            ],
            "text/html": [
              "\n",
              "  <div id=\"df-72a20219-4622-4da6-8b60-0c527207f60c\">\n",
              "    <div class=\"colab-df-container\">\n",
              "      <div>\n",
              "<style scoped>\n",
              "    .dataframe tbody tr th:only-of-type {\n",
              "        vertical-align: middle;\n",
              "    }\n",
              "\n",
              "    .dataframe tbody tr th {\n",
              "        vertical-align: top;\n",
              "    }\n",
              "\n",
              "    .dataframe thead th {\n",
              "        text-align: right;\n",
              "    }\n",
              "</style>\n",
              "<table border=\"1\" class=\"dataframe\">\n",
              "  <thead>\n",
              "    <tr style=\"text-align: right;\">\n",
              "      <th></th>\n",
              "      <th>ClientPeriod</th>\n",
              "      <th>MonthlySpending</th>\n",
              "      <th>TotalSpent</th>\n",
              "      <th>Sex</th>\n",
              "      <th>IsSeniorCitizen</th>\n",
              "      <th>HasPartner</th>\n",
              "      <th>HasChild</th>\n",
              "      <th>HasPhoneService</th>\n",
              "      <th>HasMultiplePhoneNumbers</th>\n",
              "      <th>HasInternetService</th>\n",
              "      <th>HasOnlineSecurityService</th>\n",
              "      <th>HasOnlineBackup</th>\n",
              "      <th>HasDeviceProtection</th>\n",
              "      <th>HasTechSupportAccess</th>\n",
              "      <th>HasOnlineTV</th>\n",
              "      <th>HasMovieSubscription</th>\n",
              "      <th>HasContractPhone</th>\n",
              "      <th>IsBillingPaperless</th>\n",
              "      <th>PaymentMethod</th>\n",
              "      <th>Churn</th>\n",
              "    </tr>\n",
              "  </thead>\n",
              "  <tbody>\n",
              "    <tr>\n",
              "      <th>0</th>\n",
              "      <td>55</td>\n",
              "      <td>19.50</td>\n",
              "      <td>1026.35</td>\n",
              "      <td>Male</td>\n",
              "      <td>0</td>\n",
              "      <td>Yes</td>\n",
              "      <td>Yes</td>\n",
              "      <td>Yes</td>\n",
              "      <td>No</td>\n",
              "      <td>No</td>\n",
              "      <td>No internet service</td>\n",
              "      <td>No internet service</td>\n",
              "      <td>No internet service</td>\n",
              "      <td>No internet service</td>\n",
              "      <td>No internet service</td>\n",
              "      <td>No internet service</td>\n",
              "      <td>One year</td>\n",
              "      <td>No</td>\n",
              "      <td>Mailed check</td>\n",
              "      <td>0</td>\n",
              "    </tr>\n",
              "    <tr>\n",
              "      <th>1</th>\n",
              "      <td>72</td>\n",
              "      <td>25.85</td>\n",
              "      <td>1872.2</td>\n",
              "      <td>Male</td>\n",
              "      <td>0</td>\n",
              "      <td>Yes</td>\n",
              "      <td>No</td>\n",
              "      <td>Yes</td>\n",
              "      <td>Yes</td>\n",
              "      <td>No</td>\n",
              "      <td>No internet service</td>\n",
              "      <td>No internet service</td>\n",
              "      <td>No internet service</td>\n",
              "      <td>No internet service</td>\n",
              "      <td>No internet service</td>\n",
              "      <td>No internet service</td>\n",
              "      <td>Two year</td>\n",
              "      <td>No</td>\n",
              "      <td>Credit card (automatic)</td>\n",
              "      <td>0</td>\n",
              "    </tr>\n",
              "    <tr>\n",
              "      <th>2</th>\n",
              "      <td>1</td>\n",
              "      <td>75.90</td>\n",
              "      <td>75.9</td>\n",
              "      <td>Male</td>\n",
              "      <td>0</td>\n",
              "      <td>No</td>\n",
              "      <td>No</td>\n",
              "      <td>Yes</td>\n",
              "      <td>No</td>\n",
              "      <td>Fiber optic</td>\n",
              "      <td>No</td>\n",
              "      <td>No</td>\n",
              "      <td>No</td>\n",
              "      <td>Yes</td>\n",
              "      <td>No</td>\n",
              "      <td>No</td>\n",
              "      <td>Month-to-month</td>\n",
              "      <td>Yes</td>\n",
              "      <td>Electronic check</td>\n",
              "      <td>1</td>\n",
              "    </tr>\n",
              "    <tr>\n",
              "      <th>3</th>\n",
              "      <td>32</td>\n",
              "      <td>79.30</td>\n",
              "      <td>2570</td>\n",
              "      <td>Female</td>\n",
              "      <td>1</td>\n",
              "      <td>Yes</td>\n",
              "      <td>No</td>\n",
              "      <td>Yes</td>\n",
              "      <td>Yes</td>\n",
              "      <td>Fiber optic</td>\n",
              "      <td>No</td>\n",
              "      <td>No</td>\n",
              "      <td>Yes</td>\n",
              "      <td>No</td>\n",
              "      <td>No</td>\n",
              "      <td>No</td>\n",
              "      <td>Month-to-month</td>\n",
              "      <td>No</td>\n",
              "      <td>Mailed check</td>\n",
              "      <td>0</td>\n",
              "    </tr>\n",
              "    <tr>\n",
              "      <th>4</th>\n",
              "      <td>60</td>\n",
              "      <td>115.25</td>\n",
              "      <td>6758.45</td>\n",
              "      <td>Female</td>\n",
              "      <td>0</td>\n",
              "      <td>Yes</td>\n",
              "      <td>Yes</td>\n",
              "      <td>Yes</td>\n",
              "      <td>Yes</td>\n",
              "      <td>Fiber optic</td>\n",
              "      <td>Yes</td>\n",
              "      <td>Yes</td>\n",
              "      <td>Yes</td>\n",
              "      <td>Yes</td>\n",
              "      <td>Yes</td>\n",
              "      <td>Yes</td>\n",
              "      <td>Two year</td>\n",
              "      <td>No</td>\n",
              "      <td>Credit card (automatic)</td>\n",
              "      <td>0</td>\n",
              "    </tr>\n",
              "    <tr>\n",
              "      <th>...</th>\n",
              "      <td>...</td>\n",
              "      <td>...</td>\n",
              "      <td>...</td>\n",
              "      <td>...</td>\n",
              "      <td>...</td>\n",
              "      <td>...</td>\n",
              "      <td>...</td>\n",
              "      <td>...</td>\n",
              "      <td>...</td>\n",
              "      <td>...</td>\n",
              "      <td>...</td>\n",
              "      <td>...</td>\n",
              "      <td>...</td>\n",
              "      <td>...</td>\n",
              "      <td>...</td>\n",
              "      <td>...</td>\n",
              "      <td>...</td>\n",
              "      <td>...</td>\n",
              "      <td>...</td>\n",
              "      <td>...</td>\n",
              "    </tr>\n",
              "    <tr>\n",
              "      <th>5277</th>\n",
              "      <td>3</td>\n",
              "      <td>30.40</td>\n",
              "      <td>82.15</td>\n",
              "      <td>Male</td>\n",
              "      <td>0</td>\n",
              "      <td>No</td>\n",
              "      <td>No</td>\n",
              "      <td>No</td>\n",
              "      <td>No phone service</td>\n",
              "      <td>DSL</td>\n",
              "      <td>No</td>\n",
              "      <td>No</td>\n",
              "      <td>No</td>\n",
              "      <td>Yes</td>\n",
              "      <td>No</td>\n",
              "      <td>No</td>\n",
              "      <td>Month-to-month</td>\n",
              "      <td>No</td>\n",
              "      <td>Electronic check</td>\n",
              "      <td>0</td>\n",
              "    </tr>\n",
              "    <tr>\n",
              "      <th>5278</th>\n",
              "      <td>50</td>\n",
              "      <td>44.45</td>\n",
              "      <td>2188.45</td>\n",
              "      <td>Male</td>\n",
              "      <td>0</td>\n",
              "      <td>Yes</td>\n",
              "      <td>No</td>\n",
              "      <td>No</td>\n",
              "      <td>No phone service</td>\n",
              "      <td>DSL</td>\n",
              "      <td>Yes</td>\n",
              "      <td>No</td>\n",
              "      <td>No</td>\n",
              "      <td>Yes</td>\n",
              "      <td>Yes</td>\n",
              "      <td>No</td>\n",
              "      <td>One year</td>\n",
              "      <td>Yes</td>\n",
              "      <td>Bank transfer (automatic)</td>\n",
              "      <td>0</td>\n",
              "    </tr>\n",
              "    <tr>\n",
              "      <th>5279</th>\n",
              "      <td>1</td>\n",
              "      <td>55.05</td>\n",
              "      <td>55.05</td>\n",
              "      <td>Male</td>\n",
              "      <td>0</td>\n",
              "      <td>No</td>\n",
              "      <td>No</td>\n",
              "      <td>Yes</td>\n",
              "      <td>No</td>\n",
              "      <td>DSL</td>\n",
              "      <td>No</td>\n",
              "      <td>No</td>\n",
              "      <td>Yes</td>\n",
              "      <td>Yes</td>\n",
              "      <td>No</td>\n",
              "      <td>No</td>\n",
              "      <td>Month-to-month</td>\n",
              "      <td>No</td>\n",
              "      <td>Mailed check</td>\n",
              "      <td>0</td>\n",
              "    </tr>\n",
              "    <tr>\n",
              "      <th>5280</th>\n",
              "      <td>29</td>\n",
              "      <td>76.00</td>\n",
              "      <td>2215.25</td>\n",
              "      <td>Female</td>\n",
              "      <td>0</td>\n",
              "      <td>No</td>\n",
              "      <td>No</td>\n",
              "      <td>Yes</td>\n",
              "      <td>Yes</td>\n",
              "      <td>Fiber optic</td>\n",
              "      <td>No</td>\n",
              "      <td>No</td>\n",
              "      <td>No</td>\n",
              "      <td>No</td>\n",
              "      <td>No</td>\n",
              "      <td>No</td>\n",
              "      <td>Month-to-month</td>\n",
              "      <td>Yes</td>\n",
              "      <td>Credit card (automatic)</td>\n",
              "      <td>0</td>\n",
              "    </tr>\n",
              "    <tr>\n",
              "      <th>5281</th>\n",
              "      <td>19</td>\n",
              "      <td>75.90</td>\n",
              "      <td>1375.6</td>\n",
              "      <td>Female</td>\n",
              "      <td>0</td>\n",
              "      <td>No</td>\n",
              "      <td>Yes</td>\n",
              "      <td>Yes</td>\n",
              "      <td>Yes</td>\n",
              "      <td>DSL</td>\n",
              "      <td>Yes</td>\n",
              "      <td>Yes</td>\n",
              "      <td>No</td>\n",
              "      <td>Yes</td>\n",
              "      <td>Yes</td>\n",
              "      <td>No</td>\n",
              "      <td>Month-to-month</td>\n",
              "      <td>Yes</td>\n",
              "      <td>Mailed check</td>\n",
              "      <td>0</td>\n",
              "    </tr>\n",
              "  </tbody>\n",
              "</table>\n",
              "<p>5282 rows × 20 columns</p>\n",
              "</div>\n",
              "      <button class=\"colab-df-convert\" onclick=\"convertToInteractive('df-72a20219-4622-4da6-8b60-0c527207f60c')\"\n",
              "              title=\"Convert this dataframe to an interactive table.\"\n",
              "              style=\"display:none;\">\n",
              "        \n",
              "  <svg xmlns=\"http://www.w3.org/2000/svg\" height=\"24px\"viewBox=\"0 0 24 24\"\n",
              "       width=\"24px\">\n",
              "    <path d=\"M0 0h24v24H0V0z\" fill=\"none\"/>\n",
              "    <path d=\"M18.56 5.44l.94 2.06.94-2.06 2.06-.94-2.06-.94-.94-2.06-.94 2.06-2.06.94zm-11 1L8.5 8.5l.94-2.06 2.06-.94-2.06-.94L8.5 2.5l-.94 2.06-2.06.94zm10 10l.94 2.06.94-2.06 2.06-.94-2.06-.94-.94-2.06-.94 2.06-2.06.94z\"/><path d=\"M17.41 7.96l-1.37-1.37c-.4-.4-.92-.59-1.43-.59-.52 0-1.04.2-1.43.59L10.3 9.45l-7.72 7.72c-.78.78-.78 2.05 0 2.83L4 21.41c.39.39.9.59 1.41.59.51 0 1.02-.2 1.41-.59l7.78-7.78 2.81-2.81c.8-.78.8-2.07 0-2.86zM5.41 20L4 18.59l7.72-7.72 1.47 1.35L5.41 20z\"/>\n",
              "  </svg>\n",
              "      </button>\n",
              "      \n",
              "  <style>\n",
              "    .colab-df-container {\n",
              "      display:flex;\n",
              "      flex-wrap:wrap;\n",
              "      gap: 12px;\n",
              "    }\n",
              "\n",
              "    .colab-df-convert {\n",
              "      background-color: #E8F0FE;\n",
              "      border: none;\n",
              "      border-radius: 50%;\n",
              "      cursor: pointer;\n",
              "      display: none;\n",
              "      fill: #1967D2;\n",
              "      height: 32px;\n",
              "      padding: 0 0 0 0;\n",
              "      width: 32px;\n",
              "    }\n",
              "\n",
              "    .colab-df-convert:hover {\n",
              "      background-color: #E2EBFA;\n",
              "      box-shadow: 0px 1px 2px rgba(60, 64, 67, 0.3), 0px 1px 3px 1px rgba(60, 64, 67, 0.15);\n",
              "      fill: #174EA6;\n",
              "    }\n",
              "\n",
              "    [theme=dark] .colab-df-convert {\n",
              "      background-color: #3B4455;\n",
              "      fill: #D2E3FC;\n",
              "    }\n",
              "\n",
              "    [theme=dark] .colab-df-convert:hover {\n",
              "      background-color: #434B5C;\n",
              "      box-shadow: 0px 1px 3px 1px rgba(0, 0, 0, 0.15);\n",
              "      filter: drop-shadow(0px 1px 2px rgba(0, 0, 0, 0.3));\n",
              "      fill: #FFFFFF;\n",
              "    }\n",
              "  </style>\n",
              "\n",
              "      <script>\n",
              "        const buttonEl =\n",
              "          document.querySelector('#df-72a20219-4622-4da6-8b60-0c527207f60c button.colab-df-convert');\n",
              "        buttonEl.style.display =\n",
              "          google.colab.kernel.accessAllowed ? 'block' : 'none';\n",
              "\n",
              "        async function convertToInteractive(key) {\n",
              "          const element = document.querySelector('#df-72a20219-4622-4da6-8b60-0c527207f60c');\n",
              "          const dataTable =\n",
              "            await google.colab.kernel.invokeFunction('convertToInteractive',\n",
              "                                                     [key], {});\n",
              "          if (!dataTable) return;\n",
              "\n",
              "          const docLinkHtml = 'Like what you see? Visit the ' +\n",
              "            '<a target=\"_blank\" href=https://colab.research.google.com/notebooks/data_table.ipynb>data table notebook</a>'\n",
              "            + ' to learn more about interactive tables.';\n",
              "          element.innerHTML = '';\n",
              "          dataTable['output_type'] = 'display_data';\n",
              "          await google.colab.output.renderOutput(dataTable, element);\n",
              "          const docLink = document.createElement('div');\n",
              "          docLink.innerHTML = docLinkHtml;\n",
              "          element.appendChild(docLink);\n",
              "        }\n",
              "      </script>\n",
              "    </div>\n",
              "  </div>\n",
              "  "
            ]
          },
          "metadata": {},
          "execution_count": 7
        }
      ]
    },
    {
      "cell_type": "code",
      "source": [
        "data.sample (n= 5 ) #выводим 5 случайных строчек"
      ],
      "metadata": {
        "id": "8e_GZqo5Zc8f",
        "outputId": "3d990a26-8a6f-4bd1-d010-d11dab11675c",
        "colab": {
          "base_uri": "https://localhost:8080/",
          "height": 340
        }
      },
      "execution_count": 8,
      "outputs": [
        {
          "output_type": "execute_result",
          "data": {
            "text/plain": [
              "      ClientPeriod  MonthlySpending TotalSpent     Sex  IsSeniorCitizen  \\\n",
              "1491            42           103.80     4327.5  Female                0   \n",
              "3000            70            19.80    1378.75  Female                0   \n",
              "2173             3            29.65      90.05  Female                0   \n",
              "4394             4            63.75      226.2    Male                0   \n",
              "4105            55            25.65       1388  Female                0   \n",
              "\n",
              "     HasPartner HasChild HasPhoneService HasMultiplePhoneNumbers  \\\n",
              "1491         No       No             Yes                      No   \n",
              "3000        Yes      Yes             Yes                      No   \n",
              "2173         No      Yes              No        No phone service   \n",
              "4394         No       No             Yes                      No   \n",
              "4105        Yes      Yes             Yes                     Yes   \n",
              "\n",
              "     HasInternetService HasOnlineSecurityService      HasOnlineBackup  \\\n",
              "1491        Fiber optic                       No                  Yes   \n",
              "3000                 No      No internet service  No internet service   \n",
              "2173                DSL                       No                  Yes   \n",
              "4394                DSL                       No                  Yes   \n",
              "4105                 No      No internet service  No internet service   \n",
              "\n",
              "      HasDeviceProtection HasTechSupportAccess          HasOnlineTV  \\\n",
              "1491                  Yes                  Yes                  Yes   \n",
              "3000  No internet service  No internet service  No internet service   \n",
              "2173                   No                   No                   No   \n",
              "4394                   No                  Yes                  Yes   \n",
              "4105  No internet service  No internet service  No internet service   \n",
              "\n",
              "     HasMovieSubscription HasContractPhone IsBillingPaperless  \\\n",
              "1491                  Yes   Month-to-month                Yes   \n",
              "3000  No internet service         Two year                 No   \n",
              "2173                   No   Month-to-month                 No   \n",
              "4394                   No   Month-to-month                Yes   \n",
              "4105  No internet service         Two year                Yes   \n",
              "\n",
              "                  PaymentMethod  Churn  \n",
              "1491  Bank transfer (automatic)      0  \n",
              "3000  Bank transfer (automatic)      0  \n",
              "2173               Mailed check      0  \n",
              "4394  Bank transfer (automatic)      0  \n",
              "4105    Credit card (automatic)      0  "
            ],
            "text/html": [
              "\n",
              "  <div id=\"df-46c9fc54-eb68-4166-93df-18ef617f1852\">\n",
              "    <div class=\"colab-df-container\">\n",
              "      <div>\n",
              "<style scoped>\n",
              "    .dataframe tbody tr th:only-of-type {\n",
              "        vertical-align: middle;\n",
              "    }\n",
              "\n",
              "    .dataframe tbody tr th {\n",
              "        vertical-align: top;\n",
              "    }\n",
              "\n",
              "    .dataframe thead th {\n",
              "        text-align: right;\n",
              "    }\n",
              "</style>\n",
              "<table border=\"1\" class=\"dataframe\">\n",
              "  <thead>\n",
              "    <tr style=\"text-align: right;\">\n",
              "      <th></th>\n",
              "      <th>ClientPeriod</th>\n",
              "      <th>MonthlySpending</th>\n",
              "      <th>TotalSpent</th>\n",
              "      <th>Sex</th>\n",
              "      <th>IsSeniorCitizen</th>\n",
              "      <th>HasPartner</th>\n",
              "      <th>HasChild</th>\n",
              "      <th>HasPhoneService</th>\n",
              "      <th>HasMultiplePhoneNumbers</th>\n",
              "      <th>HasInternetService</th>\n",
              "      <th>HasOnlineSecurityService</th>\n",
              "      <th>HasOnlineBackup</th>\n",
              "      <th>HasDeviceProtection</th>\n",
              "      <th>HasTechSupportAccess</th>\n",
              "      <th>HasOnlineTV</th>\n",
              "      <th>HasMovieSubscription</th>\n",
              "      <th>HasContractPhone</th>\n",
              "      <th>IsBillingPaperless</th>\n",
              "      <th>PaymentMethod</th>\n",
              "      <th>Churn</th>\n",
              "    </tr>\n",
              "  </thead>\n",
              "  <tbody>\n",
              "    <tr>\n",
              "      <th>1491</th>\n",
              "      <td>42</td>\n",
              "      <td>103.80</td>\n",
              "      <td>4327.5</td>\n",
              "      <td>Female</td>\n",
              "      <td>0</td>\n",
              "      <td>No</td>\n",
              "      <td>No</td>\n",
              "      <td>Yes</td>\n",
              "      <td>No</td>\n",
              "      <td>Fiber optic</td>\n",
              "      <td>No</td>\n",
              "      <td>Yes</td>\n",
              "      <td>Yes</td>\n",
              "      <td>Yes</td>\n",
              "      <td>Yes</td>\n",
              "      <td>Yes</td>\n",
              "      <td>Month-to-month</td>\n",
              "      <td>Yes</td>\n",
              "      <td>Bank transfer (automatic)</td>\n",
              "      <td>0</td>\n",
              "    </tr>\n",
              "    <tr>\n",
              "      <th>3000</th>\n",
              "      <td>70</td>\n",
              "      <td>19.80</td>\n",
              "      <td>1378.75</td>\n",
              "      <td>Female</td>\n",
              "      <td>0</td>\n",
              "      <td>Yes</td>\n",
              "      <td>Yes</td>\n",
              "      <td>Yes</td>\n",
              "      <td>No</td>\n",
              "      <td>No</td>\n",
              "      <td>No internet service</td>\n",
              "      <td>No internet service</td>\n",
              "      <td>No internet service</td>\n",
              "      <td>No internet service</td>\n",
              "      <td>No internet service</td>\n",
              "      <td>No internet service</td>\n",
              "      <td>Two year</td>\n",
              "      <td>No</td>\n",
              "      <td>Bank transfer (automatic)</td>\n",
              "      <td>0</td>\n",
              "    </tr>\n",
              "    <tr>\n",
              "      <th>2173</th>\n",
              "      <td>3</td>\n",
              "      <td>29.65</td>\n",
              "      <td>90.05</td>\n",
              "      <td>Female</td>\n",
              "      <td>0</td>\n",
              "      <td>No</td>\n",
              "      <td>Yes</td>\n",
              "      <td>No</td>\n",
              "      <td>No phone service</td>\n",
              "      <td>DSL</td>\n",
              "      <td>No</td>\n",
              "      <td>Yes</td>\n",
              "      <td>No</td>\n",
              "      <td>No</td>\n",
              "      <td>No</td>\n",
              "      <td>No</td>\n",
              "      <td>Month-to-month</td>\n",
              "      <td>No</td>\n",
              "      <td>Mailed check</td>\n",
              "      <td>0</td>\n",
              "    </tr>\n",
              "    <tr>\n",
              "      <th>4394</th>\n",
              "      <td>4</td>\n",
              "      <td>63.75</td>\n",
              "      <td>226.2</td>\n",
              "      <td>Male</td>\n",
              "      <td>0</td>\n",
              "      <td>No</td>\n",
              "      <td>No</td>\n",
              "      <td>Yes</td>\n",
              "      <td>No</td>\n",
              "      <td>DSL</td>\n",
              "      <td>No</td>\n",
              "      <td>Yes</td>\n",
              "      <td>No</td>\n",
              "      <td>Yes</td>\n",
              "      <td>Yes</td>\n",
              "      <td>No</td>\n",
              "      <td>Month-to-month</td>\n",
              "      <td>Yes</td>\n",
              "      <td>Bank transfer (automatic)</td>\n",
              "      <td>0</td>\n",
              "    </tr>\n",
              "    <tr>\n",
              "      <th>4105</th>\n",
              "      <td>55</td>\n",
              "      <td>25.65</td>\n",
              "      <td>1388</td>\n",
              "      <td>Female</td>\n",
              "      <td>0</td>\n",
              "      <td>Yes</td>\n",
              "      <td>Yes</td>\n",
              "      <td>Yes</td>\n",
              "      <td>Yes</td>\n",
              "      <td>No</td>\n",
              "      <td>No internet service</td>\n",
              "      <td>No internet service</td>\n",
              "      <td>No internet service</td>\n",
              "      <td>No internet service</td>\n",
              "      <td>No internet service</td>\n",
              "      <td>No internet service</td>\n",
              "      <td>Two year</td>\n",
              "      <td>Yes</td>\n",
              "      <td>Credit card (automatic)</td>\n",
              "      <td>0</td>\n",
              "    </tr>\n",
              "  </tbody>\n",
              "</table>\n",
              "</div>\n",
              "      <button class=\"colab-df-convert\" onclick=\"convertToInteractive('df-46c9fc54-eb68-4166-93df-18ef617f1852')\"\n",
              "              title=\"Convert this dataframe to an interactive table.\"\n",
              "              style=\"display:none;\">\n",
              "        \n",
              "  <svg xmlns=\"http://www.w3.org/2000/svg\" height=\"24px\"viewBox=\"0 0 24 24\"\n",
              "       width=\"24px\">\n",
              "    <path d=\"M0 0h24v24H0V0z\" fill=\"none\"/>\n",
              "    <path d=\"M18.56 5.44l.94 2.06.94-2.06 2.06-.94-2.06-.94-.94-2.06-.94 2.06-2.06.94zm-11 1L8.5 8.5l.94-2.06 2.06-.94-2.06-.94L8.5 2.5l-.94 2.06-2.06.94zm10 10l.94 2.06.94-2.06 2.06-.94-2.06-.94-.94-2.06-.94 2.06-2.06.94z\"/><path d=\"M17.41 7.96l-1.37-1.37c-.4-.4-.92-.59-1.43-.59-.52 0-1.04.2-1.43.59L10.3 9.45l-7.72 7.72c-.78.78-.78 2.05 0 2.83L4 21.41c.39.39.9.59 1.41.59.51 0 1.02-.2 1.41-.59l7.78-7.78 2.81-2.81c.8-.78.8-2.07 0-2.86zM5.41 20L4 18.59l7.72-7.72 1.47 1.35L5.41 20z\"/>\n",
              "  </svg>\n",
              "      </button>\n",
              "      \n",
              "  <style>\n",
              "    .colab-df-container {\n",
              "      display:flex;\n",
              "      flex-wrap:wrap;\n",
              "      gap: 12px;\n",
              "    }\n",
              "\n",
              "    .colab-df-convert {\n",
              "      background-color: #E8F0FE;\n",
              "      border: none;\n",
              "      border-radius: 50%;\n",
              "      cursor: pointer;\n",
              "      display: none;\n",
              "      fill: #1967D2;\n",
              "      height: 32px;\n",
              "      padding: 0 0 0 0;\n",
              "      width: 32px;\n",
              "    }\n",
              "\n",
              "    .colab-df-convert:hover {\n",
              "      background-color: #E2EBFA;\n",
              "      box-shadow: 0px 1px 2px rgba(60, 64, 67, 0.3), 0px 1px 3px 1px rgba(60, 64, 67, 0.15);\n",
              "      fill: #174EA6;\n",
              "    }\n",
              "\n",
              "    [theme=dark] .colab-df-convert {\n",
              "      background-color: #3B4455;\n",
              "      fill: #D2E3FC;\n",
              "    }\n",
              "\n",
              "    [theme=dark] .colab-df-convert:hover {\n",
              "      background-color: #434B5C;\n",
              "      box-shadow: 0px 1px 3px 1px rgba(0, 0, 0, 0.15);\n",
              "      filter: drop-shadow(0px 1px 2px rgba(0, 0, 0, 0.3));\n",
              "      fill: #FFFFFF;\n",
              "    }\n",
              "  </style>\n",
              "\n",
              "      <script>\n",
              "        const buttonEl =\n",
              "          document.querySelector('#df-46c9fc54-eb68-4166-93df-18ef617f1852 button.colab-df-convert');\n",
              "        buttonEl.style.display =\n",
              "          google.colab.kernel.accessAllowed ? 'block' : 'none';\n",
              "\n",
              "        async function convertToInteractive(key) {\n",
              "          const element = document.querySelector('#df-46c9fc54-eb68-4166-93df-18ef617f1852');\n",
              "          const dataTable =\n",
              "            await google.colab.kernel.invokeFunction('convertToInteractive',\n",
              "                                                     [key], {});\n",
              "          if (!dataTable) return;\n",
              "\n",
              "          const docLinkHtml = 'Like what you see? Visit the ' +\n",
              "            '<a target=\"_blank\" href=https://colab.research.google.com/notebooks/data_table.ipynb>data table notebook</a>'\n",
              "            + ' to learn more about interactive tables.';\n",
              "          element.innerHTML = '';\n",
              "          dataTable['output_type'] = 'display_data';\n",
              "          await google.colab.output.renderOutput(dataTable, element);\n",
              "          const docLink = document.createElement('div');\n",
              "          docLink.innerHTML = docLinkHtml;\n",
              "          element.appendChild(docLink);\n",
              "        }\n",
              "      </script>\n",
              "    </div>\n",
              "  </div>\n",
              "  "
            ]
          },
          "metadata": {},
          "execution_count": 8
        }
      ]
    },
    {
      "cell_type": "code",
      "source": [
        "data.info() #общая информация о датасете\n",
        "data.shape #форма таблицы"
      ],
      "metadata": {
        "id": "FCUI1QhbWT0u",
        "outputId": "90509fec-5cd9-4722-aafe-01478cd51651",
        "colab": {
          "base_uri": "https://localhost:8080/"
        }
      },
      "execution_count": 9,
      "outputs": [
        {
          "output_type": "stream",
          "name": "stdout",
          "text": [
            "<class 'pandas.core.frame.DataFrame'>\n",
            "RangeIndex: 5282 entries, 0 to 5281\n",
            "Data columns (total 20 columns):\n",
            " #   Column                    Non-Null Count  Dtype  \n",
            "---  ------                    --------------  -----  \n",
            " 0   ClientPeriod              5282 non-null   int64  \n",
            " 1   MonthlySpending           5282 non-null   float64\n",
            " 2   TotalSpent                5282 non-null   object \n",
            " 3   Sex                       5282 non-null   object \n",
            " 4   IsSeniorCitizen           5282 non-null   int64  \n",
            " 5   HasPartner                5282 non-null   object \n",
            " 6   HasChild                  5282 non-null   object \n",
            " 7   HasPhoneService           5282 non-null   object \n",
            " 8   HasMultiplePhoneNumbers   5282 non-null   object \n",
            " 9   HasInternetService        5282 non-null   object \n",
            " 10  HasOnlineSecurityService  5282 non-null   object \n",
            " 11  HasOnlineBackup           5282 non-null   object \n",
            " 12  HasDeviceProtection       5282 non-null   object \n",
            " 13  HasTechSupportAccess      5282 non-null   object \n",
            " 14  HasOnlineTV               5282 non-null   object \n",
            " 15  HasMovieSubscription      5282 non-null   object \n",
            " 16  HasContractPhone          5282 non-null   object \n",
            " 17  IsBillingPaperless        5282 non-null   object \n",
            " 18  PaymentMethod             5282 non-null   object \n",
            " 19  Churn                     5282 non-null   int64  \n",
            "dtypes: float64(1), int64(3), object(16)\n",
            "memory usage: 825.4+ KB\n"
          ]
        },
        {
          "output_type": "execute_result",
          "data": {
            "text/plain": [
              "(5282, 20)"
            ]
          },
          "metadata": {},
          "execution_count": 9
        }
      ]
    },
    {
      "cell_type": "code",
      "source": [
        "data.isna().sum() #Количество nan"
      ],
      "metadata": {
        "id": "swbtUU0rWavo",
        "outputId": "7a20624e-2bf8-49dc-9c91-4845b8b2f1bb",
        "colab": {
          "base_uri": "https://localhost:8080/"
        }
      },
      "execution_count": 10,
      "outputs": [
        {
          "output_type": "execute_result",
          "data": {
            "text/plain": [
              "ClientPeriod                0\n",
              "MonthlySpending             0\n",
              "TotalSpent                  0\n",
              "Sex                         0\n",
              "IsSeniorCitizen             0\n",
              "HasPartner                  0\n",
              "HasChild                    0\n",
              "HasPhoneService             0\n",
              "HasMultiplePhoneNumbers     0\n",
              "HasInternetService          0\n",
              "HasOnlineSecurityService    0\n",
              "HasOnlineBackup             0\n",
              "HasDeviceProtection         0\n",
              "HasTechSupportAccess        0\n",
              "HasOnlineTV                 0\n",
              "HasMovieSubscription        0\n",
              "HasContractPhone            0\n",
              "IsBillingPaperless          0\n",
              "PaymentMethod               0\n",
              "Churn                       0\n",
              "dtype: int64"
            ]
          },
          "metadata": {},
          "execution_count": 10
        }
      ]
    },
    {
      "cell_type": "markdown",
      "metadata": {
        "id": "dK370bPCEEZD"
      },
      "source": [
        "## Анализ данных (3 балла)\n",
        "\n",
        "1) Для численных призанков постройте гистограмму (*plt.hist(...)*) или boxplot (*plt.boxplot(...)*). Для категориальных посчитайте количество каждого значения для каждого признака. Для каждой колонки надо сделать *data.value_counts()* и построить bar диаграммы *plt.bar(...)* или круговые диаграммы *plt.pie(...)* (хорошо, елси вы сможете это сделать на одном гарфике с помощью *plt.subplots(...)*). \n",
        "\n",
        "2) Посмотрите на распределение целевой переменной и скажите, являются ли классы несбалансированными.\n",
        "\n",
        "3) (Если будет желание) Поиграйте с разными библиотеками для визуализации - *sns*, *pandas_visual_analysis*, etc.\n",
        "\n",
        "Второй пункт очень важен, потому что существуют задачи классификации с несбалансированными классами. Например, это может значить, что в датасете намного больше примеров 0 класса. В таких случаях нужно 1) не использовать accuracy как метрику 2) использовать методы борьбы с imbalanced dataset (обычно если датасет сильно несбалансирован, т.е. класса 1 в 20 раз меньше класса 0)."
      ]
    },
    {
      "cell_type": "code",
      "metadata": {
        "id": "NZkbgFJZEEZE",
        "outputId": "929dbe9a-84ee-4c9d-e5ef-267f618ecb0d",
        "colab": {
          "base_uri": "https://localhost:8080/",
          "height": 761
        }
      },
      "source": [
        "# YOUR CODE\n",
        "# Числовые признаки\n",
        "num_val = pd.DataFrame(numeric_data)\n",
        "column = ['ClientPeriod','MonthlySpending','TotalSpent']\n",
        "\n",
        "for i in column: #выведем гистограмму для численных признаков \n",
        "    dat = num_val[i]\n",
        "    plt.hist(dat, bins=200)\n",
        "    plt.show()"
      ],
      "execution_count": 11,
      "outputs": [
        {
          "output_type": "display_data",
          "data": {
            "text/plain": [
              "<Figure size 432x288 with 1 Axes>"
            ],
            "image/png": "[encoded data removed]"
          },
          "metadata": {
            "needs_background": "light"
          }
        },
        {
          "output_type": "display_data",
          "data": {
            "text/plain": [
              "<Figure size 432x288 with 1 Axes>"
            ],
            "image/png": "[encoded data removed]"
          },
          "metadata": {
            "needs_background": "light"
          }
        },
        {
          "output_type": "display_data",
          "data": {
            "text/plain": [
              "<Figure size 432x288 with 1 Axes>"
            ],
            "image/png": "[encoded data removed]"
          },
          "metadata": {
            "needs_background": "light"
          }
        }
      ]
    },
    {
      "cell_type": "code",
      "source": [
        "for i in cat_cols: #выводим количество каждого значения для каждого признака из cat_cols.\n",
        "  print(data[i].value_counts())"
      ],
      "metadata": {
        "id": "rKP44rF6gtXj",
        "outputId": "4f423091-32c2-49fa-8adc-fe845951f768",
        "colab": {
          "base_uri": "https://localhost:8080/"
        }
      },
      "execution_count": 12,
      "outputs": [
        {
          "output_type": "stream",
          "name": "stdout",
          "text": [
            "Male      2655\n",
            "Female    2627\n",
            "Name: Sex, dtype: int64\n",
            "0    4440\n",
            "1     842\n",
            "Name: IsSeniorCitizen, dtype: int64\n",
            "No     2705\n",
            "Yes    2577\n",
            "Name: HasPartner, dtype: int64\n",
            "No     3676\n",
            "Yes    1606\n",
            "Name: HasChild, dtype: int64\n",
            "Yes    4761\n",
            "No      521\n",
            "Name: HasPhoneService, dtype: int64\n",
            "No                  2511\n",
            "Yes                 2250\n",
            "No phone service     521\n",
            "Name: HasMultiplePhoneNumbers, dtype: int64\n",
            "Fiber optic    2341\n",
            "DSL            1800\n",
            "No             1141\n",
            "Name: HasInternetService, dtype: int64\n",
            "No                     2612\n",
            "Yes                    1529\n",
            "No internet service    1141\n",
            "Name: HasOnlineSecurityService, dtype: int64\n",
            "No                     2332\n",
            "Yes                    1809\n",
            "No internet service    1141\n",
            "Name: HasOnlineBackup, dtype: int64\n",
            "No                     2317\n",
            "Yes                    1824\n",
            "No internet service    1141\n",
            "Name: HasDeviceProtection, dtype: int64\n",
            "No                     2604\n",
            "Yes                    1537\n",
            "No internet service    1141\n",
            "Name: HasTechSupportAccess, dtype: int64\n",
            "No                     2099\n",
            "Yes                    2042\n",
            "No internet service    1141\n",
            "Name: HasOnlineTV, dtype: int64\n",
            "No                     2081\n",
            "Yes                    2060\n",
            "No internet service    1141\n",
            "Name: HasMovieSubscription, dtype: int64\n",
            "Month-to-month    2920\n",
            "Two year          1280\n",
            "One year          1082\n",
            "Name: HasContractPhone, dtype: int64\n",
            "Yes    3148\n",
            "No     2134\n",
            "Name: IsBillingPaperless, dtype: int64\n",
            "Electronic check             1786\n",
            "Mailed check                 1194\n",
            "Bank transfer (automatic)    1159\n",
            "Credit card (automatic)      1143\n",
            "Name: PaymentMethod, dtype: int64\n"
          ]
        }
      ]
    },
    {
      "cell_type": "markdown",
      "metadata": {
        "id": "zg60u3QDEEZH"
      },
      "source": [
        "(Дополнительно) Если вы нашли какие-то ошибки в данных или выбросы, то можете их убрать. Тут можно поэксперементировать с обработкой данных как угодно, но не за баллы."
      ]
    },
    {
      "cell_type": "code",
      "source": [
        "fig, axes = plt.subplots(4, 4, figsize=(18,18)) #выведем 16 диаграмм в одном поле.\n",
        "pau = []\n",
        "\n",
        "for i in cat_cols:\n",
        "    j = 0\n",
        "    pau.append(i)\n",
        "    k = len(pau) - 1\n",
        "\n",
        "    feature_counts = data[i].value_counts()\n",
        "    unique_features = feature_counts.index.tolist()\n",
        "    feature_counts_list = feature_counts.values.tolist()\n",
        "\n",
        "    axes[k//4,k%4].pie(feature_counts_list, labels=unique_features, autopct='%1.1f%%')\n",
        "    axes[k//4,k%4].set_title(i)\n",
        "    \n",
        "plt.show()"
      ],
      "metadata": {
        "id": "MG_qlsg4nyUn",
        "outputId": "c9af5353-92cf-446d-dbea-b4e072ecd7a9",
        "colab": {
          "base_uri": "https://localhost:8080/",
          "height": 1000
        }
      },
      "execution_count": 13,
      "outputs": [
        {
          "output_type": "display_data",
          "data": {
            "text/plain": [
              "<Figure size 1296x1296 with 16 Axes>"
            ],
            "image/png": "[encoded data removed]"
          },
          "metadata": {}
        }
      ]
    },
    {
      "cell_type": "code",
      "source": [
        " #Посмотрел на распределение целевой переменной, классы не являются несбалансированными. Разницы в 20 и более раз нет."
      ],
      "metadata": {
        "id": "-hXNVtp81B-W"
      },
      "execution_count": 14,
      "outputs": []
    },
    {
      "cell_type": "markdown",
      "metadata": {
        "id": "DviiJd8REEZK"
      },
      "source": [
        "## Применение линейных моделей (3 балла)\n",
        "\n",
        "1) Обработайте данные для того, чтобы к ним можно было применить LogisticRegression. Т.е. отнормируйте числовые признаки, а категориальные закодируйте с помощью one-hot-encoding'а. \n",
        "\n",
        "2) С помощью кроссвалидации или разделения на train/valid выборку протестируйте разные значения гиперпараметра C и выберите лучший (можно тестировать С=100, 10, 1, 0.1, 0.01, 0.001) по метрике ROC-AUC. \n",
        "\n",
        "Если вы разделяете на train/valid, то используйте LogisticRegressionCV. Он сам при вызове .fit() подберет параметр С. (не забудьте передать scroing='roc_auc', чтобы при кроссвалидации сравнивались значения этой метрики, и refit=True, чтобы при потом модель обучилась на всем датасете с лучшим параметром C). \n",
        "\n",
        "\n",
        "(более сложный вариант) Если вы будете использовать кроссвалидацию, то преобразования данных и LogisticRegression нужно соединить в один Pipeline с помощью make_pipeline, как это делалось во втором семинаре. Потом pipeline надо передать в GridSearchCV. Для one-hot-encoding'a можно испльзовать комбинацию LabelEncoder + OneHotEncoder (сначала превращаем строчки в числа, а потом числа првращаем в one-hot вектора.)"
      ]
    },
    {
      "cell_type": "markdown",
      "source": [],
      "metadata": {
        "id": "6zhnzLBtXbBs"
      }
    },
    {
      "cell_type": "code",
      "metadata": {
        "id": "xHCLDmwqEEZL"
      },
      "source": [
        "from sklearn.linear_model import LogisticRegression, LogisticRegressionCV\n",
        "from sklearn.model_selection import train_test_split, GridSearchCV\n",
        "from sklearn.preprocessing import StandardScaler, RobustScaler, LabelEncoder, OneHotEncoder\n",
        "from sklearn.pipeline import make_pipeline\n",
        "from sklearn.compose import ColumnTransformer\n",
        "from sklearn.pipeline import Pipeline"
      ],
      "execution_count": 15,
      "outputs": []
    },
    {
      "cell_type": "code",
      "source": [
        "X_train = pd.read_csv('./train.csv')\n",
        "X_test = pd.read_csv('./test.csv')\n",
        "\n",
        "X_train=X_train.replace(np.nan, '1', regex=True) #заменим наны единицами\n",
        "dummy_features = pd.get_dummies(data[cat_cols])\n",
        "numeric_features=data.drop(columns=cat_cols)\n",
        "X = pd.concat([numeric_data, dummy_features], axis=1)\n",
        "y=data.Churn\n",
        "X_train, X_test, y_train, y_test = train_test_split(X, y, train_size=0.9, random_state=42)\n",
        "\n",
        "X_train[\"TotalSpent\"] = X_train[\"TotalSpent\"].replace(\" \", 1).astype(float) #изменим тип на float\n",
        "X_test[\"TotalSpent\"] = X_test[\"TotalSpent\"].replace(\" \", 1).astype(float) #изменим тип на float\n",
        "\n",
        "scaler = StandardScaler()\n",
        "numeric_features = numeric_features.drop(columns='Churn')\n",
        "\n",
        "X_train_scaled = scaler.fit_transform(X_train)\n",
        "X_test_scaled = scaler.transform(X_test)"
      ],
      "metadata": {
        "id": "UERak1Dhh9ns"
      },
      "execution_count": 16,
      "outputs": []
    },
    {
      "cell_type": "code",
      "source": [
        "y_train = pd.to_numeric(y_train, errors='coerce')"
      ],
      "metadata": {
        "id": "IdgUaNQzwI7d"
      },
      "execution_count": 17,
      "outputs": []
    },
    {
      "cell_type": "code",
      "source": [
        "clf=LogisticRegressionCV(scoring='roc_auc', refit=True)\n",
        "clf.fit(X_train_scaled,y_train) #учим модель\n",
        "y_predict=clf.predict_proba(X_test_scaled)\n",
        "roc_auc_score(y_test,y_predict[:,1]) #best 0.8641656271783396"
      ],
      "metadata": {
        "id": "O-KtN163la_k",
        "outputId": "f1f582b2-9dc4-4707-97a7-b97985290cff",
        "colab": {
          "base_uri": "https://localhost:8080/"
        }
      },
      "execution_count": 18,
      "outputs": [
        {
          "output_type": "execute_result",
          "data": {
            "text/plain": [
              "0.8009640102827763"
            ]
          },
          "metadata": {},
          "execution_count": 18
        }
      ]
    },
    {
      "cell_type": "code",
      "source": [
        "train_preprocessed = X_train.copy()\n",
        "test_preprocessed = X_test.copy()"
      ],
      "metadata": {
        "id": "cESvr_Emkzs2"
      },
      "execution_count": 19,
      "outputs": []
    },
    {
      "cell_type": "code",
      "source": [
        "parameters = { 'C' : [0.001, 0.01, 0.1, 1, 10, 100],}\n",
        "\n",
        "clf = GridSearchCV(\n",
        "    LogisticRegression(),\n",
        "    param_grid = parameters,\n",
        "        cv=5,\n",
        "        scoring='roc_auc',\n",
        "        n_jobs=-1,\n",
        "        verbose=10,)\n",
        "\n",
        "clf.fit(X_train,y_train)\n",
        "\n",
        "regressor = LogisticRegression(max_iter=5000, C=100)\n",
        "regressor.fit(X_train, y_train)\n",
        "\n",
        "y_pred = regressor.predict(X_test)\n",
        "y_pred\n",
        "\n",
        "print(clf.best_params_)\n",
        "clf.best_score_"
      ],
      "metadata": {
        "id": "zN_9Pzn6kRGA",
        "outputId": "d683471c-f460-406a-fa1c-28b0b02c032f",
        "colab": {
          "base_uri": "https://localhost:8080/"
        }
      },
      "execution_count": 20,
      "outputs": [
        {
          "output_type": "stream",
          "name": "stdout",
          "text": [
            "Fitting 5 folds for each of 6 candidates, totalling 30 fits\n",
            "{'C': 1}\n"
          ]
        },
        {
          "output_type": "stream",
          "name": "stderr",
          "text": [
            "/usr/local/lib/python3.9/dist-packages/sklearn/linear_model/_logistic.py:458: ConvergenceWarning: lbfgs failed to converge (status=1):\n",
            "STOP: TOTAL NO. of ITERATIONS REACHED LIMIT.\n",
            "\n",
            "Increase the number of iterations (max_iter) or scale the data as shown in:\n",
            "    https://scikit-learn.org/stable/modules/preprocessing.html\n",
            "Please also refer to the documentation for alternative solver options:\n",
            "    https://scikit-learn.org/stable/modules/linear_model.html#logistic-regression\n",
            "  n_iter_i = _check_optimize_result(\n"
          ]
        },
        {
          "output_type": "execute_result",
          "data": {
            "text/plain": [
              "0.8484868871187004"
            ]
          },
          "metadata": {},
          "execution_count": 20
        }
      ]
    },
    {
      "cell_type": "markdown",
      "metadata": {
        "id": "uVahy6JKEEZQ"
      },
      "source": [
        "Выпишите какое лучшее качество и с какими параметрами вам удалось получить"
      ]
    },
    {
      "cell_type": "markdown",
      "metadata": {
        "id": "36729TOQEEZR"
      },
      "source": []
    },
    {
      "cell_type": "markdown",
      "metadata": {
        "id": "BlTeVy7fEEZR"
      },
      "source": [
        "## Применение градиентного бустинга (2 балла)\n",
        "\n",
        "Если вы хотите получить баллы за точный ответ, то стоит попробовать градиентный бустинг. Часто градиентный бустинг с параметрами по умолчанию даст вам 80% результата за 0% усилий.\n",
        "\n",
        "Мы будем использовать catboost, поэтому нам не надо кодировать категориальные признаки. Catboost сделает это сам (в .fit() надо передать cat_features=cat_cols). А численные признаки нормировать для моделей, основанных на деревьях не нужно.\n",
        "\n",
        "1) Разделите выборку на train/valid. Протестируйте catboost cо стандартными параметрами.\n",
        "\n",
        "2) Протестируйте разные занчения параметроа количества деревьев и learning_rate'а и выберите лучшую по метрике ROC-AUC комбинацию. \n",
        "\n",
        "(Дополнительно) Есть некоторые сложности с тем, чтобы использовать CatBoostClassifier вместе с GridSearchCV, поэтому мы не просим использовать кроссвалидацию. Но можете попробовать)"
      ]
    },
    {
      "cell_type": "code",
      "metadata": {
        "id": "Fioxxlp-EEZS"
      },
      "source": [
        "!pip3 install catboost"
      ],
      "execution_count": null,
      "outputs": []
    },
    {
      "cell_type": "code",
      "source": [
        "from catboost import CatBoostClassifier\n",
        "import catboost\n",
        "from sklearn.metrics import roc_curve\n",
        "from sklearn.metrics import roc_auc_score"
      ],
      "metadata": {
        "id": "7BGoJP6AoCCA"
      },
      "execution_count": 22,
      "outputs": []
    },
    {
      "cell_type": "code",
      "source": [
        "X_cat = data[feature_cols]\n",
        "y_cat = data[target_col]\n",
        "X_train, X_test, y_train, y_test = train_test_split(X_cat, y_cat, test_size=0.2, random_state=42)"
      ],
      "metadata": {
        "id": "6amWi07To4S4"
      },
      "execution_count": 24,
      "outputs": []
    },
    {
      "cell_type": "code",
      "source": [
        "boosting_model = catboost.CatBoostClassifier(n_estimators=200, cat_features=cat_cols)\n",
        "boosting_model.fit(X_train, y_train)\n",
        "y_train_pred = boosting_model.predict_proba(X_train)[:, 1]"
      ],
      "metadata": {
        "id": "BdG-IgzQqlLk",
        "outputId": "3433f7b4-914b-4904-f941-53356a94d929",
        "colab": {
          "base_uri": "https://localhost:8080/"
        }
      },
      "execution_count": 25,
      "outputs": [
        {
          "output_type": "stream",
          "name": "stdout",
          "text": [
            "Learning rate set to 0.083391\n",
            "0:\tlearn: 0.6382749\ttotal: 85.8ms\tremaining: 17.1s\n",
            "1:\tlearn: 0.5970973\ttotal: 110ms\tremaining: 10.9s\n",
            "2:\tlearn: 0.5610080\ttotal: 145ms\tremaining: 9.54s\n",
            "3:\tlearn: 0.5329491\ttotal: 176ms\tremaining: 8.64s\n",
            "4:\tlearn: 0.5112068\ttotal: 205ms\tremaining: 7.98s\n",
            "5:\tlearn: 0.4930985\ttotal: 224ms\tremaining: 7.23s\n",
            "6:\tlearn: 0.4800850\ttotal: 238ms\tremaining: 6.55s\n",
            "7:\tlearn: 0.4681540\ttotal: 280ms\tremaining: 6.71s\n",
            "8:\tlearn: 0.4583285\ttotal: 292ms\tremaining: 6.2s\n",
            "9:\tlearn: 0.4494858\ttotal: 308ms\tremaining: 5.84s\n",
            "10:\tlearn: 0.4439489\ttotal: 319ms\tremaining: 5.49s\n",
            "11:\tlearn: 0.4371125\ttotal: 334ms\tremaining: 5.24s\n",
            "12:\tlearn: 0.4311122\ttotal: 350ms\tremaining: 5.03s\n",
            "13:\tlearn: 0.4264039\ttotal: 366ms\tremaining: 4.86s\n",
            "14:\tlearn: 0.4222915\ttotal: 381ms\tremaining: 4.7s\n",
            "15:\tlearn: 0.4190003\ttotal: 395ms\tremaining: 4.55s\n",
            "16:\tlearn: 0.4153313\ttotal: 413ms\tremaining: 4.44s\n",
            "17:\tlearn: 0.4132986\ttotal: 425ms\tremaining: 4.29s\n",
            "18:\tlearn: 0.4116653\ttotal: 436ms\tremaining: 4.15s\n",
            "19:\tlearn: 0.4096251\ttotal: 448ms\tremaining: 4.03s\n",
            "20:\tlearn: 0.4075427\ttotal: 463ms\tremaining: 3.95s\n",
            "21:\tlearn: 0.4050433\ttotal: 476ms\tremaining: 3.85s\n",
            "22:\tlearn: 0.4040113\ttotal: 490ms\tremaining: 3.77s\n",
            "23:\tlearn: 0.4021203\ttotal: 503ms\tremaining: 3.69s\n",
            "24:\tlearn: 0.4007424\ttotal: 517ms\tremaining: 3.62s\n",
            "25:\tlearn: 0.4000701\ttotal: 530ms\tremaining: 3.55s\n",
            "26:\tlearn: 0.3991902\ttotal: 544ms\tremaining: 3.49s\n",
            "27:\tlearn: 0.3987400\ttotal: 551ms\tremaining: 3.38s\n",
            "28:\tlearn: 0.3972540\ttotal: 564ms\tremaining: 3.33s\n",
            "29:\tlearn: 0.3954624\ttotal: 580ms\tremaining: 3.29s\n",
            "30:\tlearn: 0.3944855\ttotal: 607ms\tremaining: 3.31s\n",
            "31:\tlearn: 0.3940795\ttotal: 624ms\tremaining: 3.27s\n",
            "32:\tlearn: 0.3924122\ttotal: 638ms\tremaining: 3.23s\n",
            "33:\tlearn: 0.3922152\ttotal: 648ms\tremaining: 3.16s\n",
            "34:\tlearn: 0.3909376\ttotal: 663ms\tremaining: 3.13s\n",
            "35:\tlearn: 0.3901188\ttotal: 676ms\tremaining: 3.08s\n",
            "36:\tlearn: 0.3898887\ttotal: 686ms\tremaining: 3.02s\n",
            "37:\tlearn: 0.3886369\ttotal: 700ms\tremaining: 2.98s\n",
            "38:\tlearn: 0.3885686\ttotal: 705ms\tremaining: 2.91s\n",
            "39:\tlearn: 0.3875534\ttotal: 722ms\tremaining: 2.89s\n",
            "40:\tlearn: 0.3870499\ttotal: 744ms\tremaining: 2.88s\n",
            "41:\tlearn: 0.3864759\ttotal: 759ms\tremaining: 2.85s\n",
            "42:\tlearn: 0.3857375\ttotal: 772ms\tremaining: 2.82s\n",
            "43:\tlearn: 0.3854573\ttotal: 779ms\tremaining: 2.76s\n",
            "44:\tlearn: 0.3850862\ttotal: 793ms\tremaining: 2.73s\n",
            "45:\tlearn: 0.3847126\ttotal: 806ms\tremaining: 2.7s\n",
            "46:\tlearn: 0.3844990\ttotal: 818ms\tremaining: 2.66s\n",
            "47:\tlearn: 0.3842831\ttotal: 834ms\tremaining: 2.64s\n",
            "48:\tlearn: 0.3834734\ttotal: 849ms\tremaining: 2.62s\n",
            "49:\tlearn: 0.3829007\ttotal: 862ms\tremaining: 2.59s\n",
            "50:\tlearn: 0.3824525\ttotal: 875ms\tremaining: 2.56s\n",
            "51:\tlearn: 0.3816902\ttotal: 887ms\tremaining: 2.52s\n",
            "52:\tlearn: 0.3811084\ttotal: 900ms\tremaining: 2.5s\n",
            "53:\tlearn: 0.3808794\ttotal: 913ms\tremaining: 2.47s\n",
            "54:\tlearn: 0.3808481\ttotal: 924ms\tremaining: 2.44s\n",
            "55:\tlearn: 0.3805372\ttotal: 940ms\tremaining: 2.42s\n",
            "56:\tlearn: 0.3798495\ttotal: 952ms\tremaining: 2.39s\n",
            "57:\tlearn: 0.3797698\ttotal: 963ms\tremaining: 2.36s\n",
            "58:\tlearn: 0.3797698\ttotal: 967ms\tremaining: 2.31s\n",
            "59:\tlearn: 0.3796845\ttotal: 974ms\tremaining: 2.27s\n",
            "60:\tlearn: 0.3793727\ttotal: 990ms\tremaining: 2.25s\n",
            "61:\tlearn: 0.3791538\ttotal: 1.01s\tremaining: 2.26s\n",
            "62:\tlearn: 0.3788657\ttotal: 1.03s\tremaining: 2.24s\n",
            "63:\tlearn: 0.3783145\ttotal: 1.05s\tremaining: 2.24s\n",
            "64:\tlearn: 0.3782623\ttotal: 1.06s\tremaining: 2.2s\n",
            "65:\tlearn: 0.3780186\ttotal: 1.07s\tremaining: 2.18s\n",
            "66:\tlearn: 0.3779709\ttotal: 1.08s\tremaining: 2.14s\n",
            "67:\tlearn: 0.3778053\ttotal: 1.09s\tremaining: 2.12s\n",
            "68:\tlearn: 0.3778005\ttotal: 1.1s\tremaining: 2.09s\n",
            "69:\tlearn: 0.3772441\ttotal: 1.11s\tremaining: 2.07s\n",
            "70:\tlearn: 0.3767515\ttotal: 1.13s\tremaining: 2.05s\n",
            "71:\tlearn: 0.3767167\ttotal: 1.13s\tremaining: 2.02s\n",
            "72:\tlearn: 0.3760602\ttotal: 1.16s\tremaining: 2.01s\n",
            "73:\tlearn: 0.3755162\ttotal: 1.17s\tremaining: 1.99s\n",
            "74:\tlearn: 0.3755161\ttotal: 1.17s\tremaining: 1.95s\n",
            "75:\tlearn: 0.3749442\ttotal: 1.19s\tremaining: 1.94s\n",
            "76:\tlearn: 0.3741970\ttotal: 1.2s\tremaining: 1.92s\n",
            "77:\tlearn: 0.3739396\ttotal: 1.22s\tremaining: 1.9s\n",
            "78:\tlearn: 0.3732432\ttotal: 1.23s\tremaining: 1.89s\n",
            "79:\tlearn: 0.3731442\ttotal: 1.25s\tremaining: 1.87s\n",
            "80:\tlearn: 0.3729462\ttotal: 1.26s\tremaining: 1.85s\n",
            "81:\tlearn: 0.3729300\ttotal: 1.26s\tremaining: 1.82s\n",
            "82:\tlearn: 0.3727758\ttotal: 1.28s\tremaining: 1.8s\n",
            "83:\tlearn: 0.3722746\ttotal: 1.29s\tremaining: 1.78s\n",
            "84:\tlearn: 0.3717791\ttotal: 1.31s\tremaining: 1.77s\n",
            "85:\tlearn: 0.3711226\ttotal: 1.32s\tremaining: 1.75s\n",
            "86:\tlearn: 0.3710941\ttotal: 1.33s\tremaining: 1.72s\n",
            "87:\tlearn: 0.3705720\ttotal: 1.34s\tremaining: 1.71s\n",
            "88:\tlearn: 0.3697404\ttotal: 1.36s\tremaining: 1.69s\n",
            "89:\tlearn: 0.3691339\ttotal: 1.37s\tremaining: 1.67s\n",
            "90:\tlearn: 0.3683990\ttotal: 1.38s\tremaining: 1.66s\n",
            "91:\tlearn: 0.3683683\ttotal: 1.39s\tremaining: 1.63s\n",
            "92:\tlearn: 0.3680619\ttotal: 1.4s\tremaining: 1.61s\n",
            "93:\tlearn: 0.3678784\ttotal: 1.42s\tremaining: 1.6s\n",
            "94:\tlearn: 0.3678419\ttotal: 1.43s\tremaining: 1.58s\n",
            "95:\tlearn: 0.3670426\ttotal: 1.45s\tremaining: 1.57s\n",
            "96:\tlearn: 0.3670225\ttotal: 1.46s\tremaining: 1.55s\n",
            "97:\tlearn: 0.3668194\ttotal: 1.47s\tremaining: 1.53s\n",
            "98:\tlearn: 0.3667144\ttotal: 1.48s\tremaining: 1.51s\n",
            "99:\tlearn: 0.3660682\ttotal: 1.5s\tremaining: 1.5s\n",
            "100:\tlearn: 0.3655011\ttotal: 1.52s\tremaining: 1.49s\n",
            "101:\tlearn: 0.3649386\ttotal: 1.53s\tremaining: 1.47s\n",
            "102:\tlearn: 0.3648699\ttotal: 1.54s\tremaining: 1.45s\n",
            "103:\tlearn: 0.3643366\ttotal: 1.55s\tremaining: 1.44s\n",
            "104:\tlearn: 0.3635979\ttotal: 1.57s\tremaining: 1.42s\n",
            "105:\tlearn: 0.3627088\ttotal: 1.58s\tremaining: 1.41s\n",
            "106:\tlearn: 0.3620785\ttotal: 1.6s\tremaining: 1.39s\n",
            "107:\tlearn: 0.3617695\ttotal: 1.61s\tremaining: 1.37s\n",
            "108:\tlearn: 0.3613014\ttotal: 1.63s\tremaining: 1.36s\n",
            "109:\tlearn: 0.3610759\ttotal: 1.64s\tremaining: 1.34s\n",
            "110:\tlearn: 0.3602564\ttotal: 1.66s\tremaining: 1.33s\n",
            "111:\tlearn: 0.3596120\ttotal: 1.67s\tremaining: 1.31s\n",
            "112:\tlearn: 0.3592967\ttotal: 1.69s\tremaining: 1.3s\n",
            "113:\tlearn: 0.3590571\ttotal: 1.7s\tremaining: 1.28s\n",
            "114:\tlearn: 0.3581168\ttotal: 1.72s\tremaining: 1.27s\n",
            "115:\tlearn: 0.3570498\ttotal: 1.73s\tremaining: 1.26s\n",
            "116:\tlearn: 0.3565090\ttotal: 1.75s\tremaining: 1.24s\n",
            "117:\tlearn: 0.3560066\ttotal: 1.76s\tremaining: 1.23s\n",
            "118:\tlearn: 0.3554388\ttotal: 1.78s\tremaining: 1.21s\n",
            "119:\tlearn: 0.3545807\ttotal: 1.79s\tremaining: 1.2s\n",
            "120:\tlearn: 0.3538430\ttotal: 1.82s\tremaining: 1.19s\n",
            "121:\tlearn: 0.3536601\ttotal: 1.83s\tremaining: 1.17s\n",
            "122:\tlearn: 0.3528762\ttotal: 1.85s\tremaining: 1.16s\n",
            "123:\tlearn: 0.3525556\ttotal: 1.86s\tremaining: 1.14s\n",
            "124:\tlearn: 0.3519674\ttotal: 1.88s\tremaining: 1.13s\n",
            "125:\tlearn: 0.3515087\ttotal: 1.89s\tremaining: 1.11s\n",
            "126:\tlearn: 0.3510957\ttotal: 1.91s\tremaining: 1.09s\n",
            "127:\tlearn: 0.3504347\ttotal: 1.92s\tremaining: 1.08s\n",
            "128:\tlearn: 0.3498930\ttotal: 1.94s\tremaining: 1.07s\n",
            "129:\tlearn: 0.3498773\ttotal: 1.95s\tremaining: 1.05s\n",
            "130:\tlearn: 0.3495938\ttotal: 1.97s\tremaining: 1.04s\n",
            "131:\tlearn: 0.3491192\ttotal: 1.98s\tremaining: 1.02s\n",
            "132:\tlearn: 0.3486390\ttotal: 2s\tremaining: 1s\n",
            "133:\tlearn: 0.3483253\ttotal: 2.01s\tremaining: 990ms\n",
            "134:\tlearn: 0.3478604\ttotal: 2.03s\tremaining: 978ms\n",
            "135:\tlearn: 0.3473139\ttotal: 2.05s\tremaining: 966ms\n",
            "136:\tlearn: 0.3465742\ttotal: 2.07s\tremaining: 953ms\n",
            "137:\tlearn: 0.3459269\ttotal: 2.09s\tremaining: 940ms\n",
            "138:\tlearn: 0.3454692\ttotal: 2.11s\tremaining: 926ms\n",
            "139:\tlearn: 0.3447342\ttotal: 2.13s\tremaining: 911ms\n",
            "140:\tlearn: 0.3443835\ttotal: 2.14s\tremaining: 896ms\n",
            "141:\tlearn: 0.3440180\ttotal: 2.15s\tremaining: 880ms\n",
            "142:\tlearn: 0.3435210\ttotal: 2.17s\tremaining: 865ms\n",
            "143:\tlearn: 0.3432139\ttotal: 2.18s\tremaining: 849ms\n",
            "144:\tlearn: 0.3429666\ttotal: 2.2s\tremaining: 834ms\n",
            "145:\tlearn: 0.3422666\ttotal: 2.21s\tremaining: 818ms\n",
            "146:\tlearn: 0.3414246\ttotal: 2.23s\tremaining: 803ms\n",
            "147:\tlearn: 0.3412905\ttotal: 2.25s\tremaining: 790ms\n",
            "148:\tlearn: 0.3409735\ttotal: 2.26s\tremaining: 775ms\n",
            "149:\tlearn: 0.3404462\ttotal: 2.28s\tremaining: 760ms\n",
            "150:\tlearn: 0.3400577\ttotal: 2.29s\tremaining: 745ms\n",
            "151:\tlearn: 0.3393906\ttotal: 2.31s\tremaining: 729ms\n",
            "152:\tlearn: 0.3391789\ttotal: 2.32s\tremaining: 714ms\n",
            "153:\tlearn: 0.3387415\ttotal: 2.34s\tremaining: 698ms\n",
            "154:\tlearn: 0.3381412\ttotal: 2.35s\tremaining: 683ms\n",
            "155:\tlearn: 0.3379839\ttotal: 2.36s\tremaining: 666ms\n",
            "156:\tlearn: 0.3377456\ttotal: 2.38s\tremaining: 651ms\n",
            "157:\tlearn: 0.3375700\ttotal: 2.39s\tremaining: 635ms\n",
            "158:\tlearn: 0.3373653\ttotal: 2.4s\tremaining: 620ms\n",
            "159:\tlearn: 0.3372423\ttotal: 2.42s\tremaining: 605ms\n",
            "160:\tlearn: 0.3367989\ttotal: 2.43s\tremaining: 589ms\n",
            "161:\tlearn: 0.3364328\ttotal: 2.44s\tremaining: 574ms\n",
            "162:\tlearn: 0.3358108\ttotal: 2.46s\tremaining: 559ms\n",
            "163:\tlearn: 0.3354695\ttotal: 2.48s\tremaining: 543ms\n",
            "164:\tlearn: 0.3353998\ttotal: 2.49s\tremaining: 529ms\n",
            "165:\tlearn: 0.3346514\ttotal: 2.51s\tremaining: 514ms\n",
            "166:\tlearn: 0.3344228\ttotal: 2.52s\tremaining: 499ms\n",
            "167:\tlearn: 0.3340192\ttotal: 2.54s\tremaining: 484ms\n",
            "168:\tlearn: 0.3333952\ttotal: 2.56s\tremaining: 470ms\n",
            "169:\tlearn: 0.3333016\ttotal: 2.58s\tremaining: 455ms\n",
            "170:\tlearn: 0.3329148\ttotal: 2.59s\tremaining: 439ms\n",
            "171:\tlearn: 0.3324075\ttotal: 2.6s\tremaining: 424ms\n",
            "172:\tlearn: 0.3319238\ttotal: 2.62s\tremaining: 409ms\n",
            "173:\tlearn: 0.3318120\ttotal: 2.63s\tremaining: 394ms\n",
            "174:\tlearn: 0.3313655\ttotal: 2.65s\tremaining: 379ms\n",
            "175:\tlearn: 0.3308577\ttotal: 2.66s\tremaining: 363ms\n",
            "176:\tlearn: 0.3304127\ttotal: 2.68s\tremaining: 348ms\n",
            "177:\tlearn: 0.3303545\ttotal: 2.7s\tremaining: 334ms\n",
            "178:\tlearn: 0.3302146\ttotal: 2.72s\tremaining: 319ms\n",
            "179:\tlearn: 0.3300223\ttotal: 2.73s\tremaining: 304ms\n",
            "180:\tlearn: 0.3299007\ttotal: 2.75s\tremaining: 288ms\n",
            "181:\tlearn: 0.3297259\ttotal: 2.76s\tremaining: 273ms\n",
            "182:\tlearn: 0.3293485\ttotal: 2.77s\tremaining: 258ms\n",
            "183:\tlearn: 0.3292667\ttotal: 2.79s\tremaining: 243ms\n",
            "184:\tlearn: 0.3288691\ttotal: 2.8s\tremaining: 227ms\n",
            "185:\tlearn: 0.3287437\ttotal: 2.82s\tremaining: 212ms\n",
            "186:\tlearn: 0.3281219\ttotal: 2.83s\tremaining: 197ms\n",
            "187:\tlearn: 0.3280090\ttotal: 2.86s\tremaining: 182ms\n",
            "188:\tlearn: 0.3276785\ttotal: 2.87s\tremaining: 167ms\n",
            "189:\tlearn: 0.3272945\ttotal: 2.88s\tremaining: 152ms\n",
            "190:\tlearn: 0.3269473\ttotal: 2.9s\tremaining: 137ms\n",
            "191:\tlearn: 0.3265503\ttotal: 2.92s\tremaining: 122ms\n",
            "192:\tlearn: 0.3259281\ttotal: 2.93s\tremaining: 106ms\n",
            "193:\tlearn: 0.3258297\ttotal: 2.94s\tremaining: 91.1ms\n",
            "194:\tlearn: 0.3256763\ttotal: 2.96s\tremaining: 75.9ms\n",
            "195:\tlearn: 0.3256303\ttotal: 2.97s\tremaining: 60.7ms\n",
            "196:\tlearn: 0.3247776\ttotal: 2.99s\tremaining: 45.5ms\n",
            "197:\tlearn: 0.3242565\ttotal: 3s\tremaining: 30.4ms\n",
            "198:\tlearn: 0.3241518\ttotal: 3.02s\tremaining: 15.2ms\n",
            "199:\tlearn: 0.3231141\ttotal: 3.05s\tremaining: 0us\n"
          ]
        }
      ]
    },
    {
      "cell_type": "code",
      "source": [
        "y_valid_pred = boosting_model.predict_proba(X_test)[:, 1]\n",
        "roc_auc_score(y_train, y_train_pred), roc_auc_score(y_test, y_valid_pred)"
      ],
      "metadata": {
        "id": "X8TehndasQik",
        "outputId": "b5077a47-4ef7-4019-c847-de7c6ff83836",
        "colab": {
          "base_uri": "https://localhost:8080/"
        }
      },
      "execution_count": 26,
      "outputs": [
        {
          "output_type": "execute_result",
          "data": {
            "text/plain": [
              "(0.8938600086850297, 0.8228013224850159)"
            ]
          },
          "metadata": {},
          "execution_count": 26
        }
      ]
    },
    {
      "cell_type": "markdown",
      "metadata": {
        "id": "rf4Kjt96EEZU"
      },
      "source": [
        "Выпишите, какое лучшее качество и с какими параметрами вам удалось получить"
      ]
    },
    {
      "cell_type": "markdown",
      "metadata": {
        "id": "d2d9GolXEEZV"
      },
      "source": [
        "ВАШ ОТВЕТ"
      ]
    },
    {
      "cell_type": "markdown",
      "source": [],
      "metadata": {
        "id": "aNJE5_SBt3Z8"
      }
    },
    {
      "cell_type": "markdown",
      "source": [
        "best_score 0.9390705480349566"
      ],
      "metadata": {
        "id": "xERvmccOt6d8"
      }
    },
    {
      "cell_type": "markdown",
      "metadata": {
        "id": "dDMXbvNZEEZV"
      },
      "source": [
        "# Предсказания"
      ]
    },
    {
      "cell_type": "code",
      "metadata": {
        "id": "G_P4wFNaEEZW"
      },
      "source": [
        "best_model = boosting_model"
      ],
      "execution_count": 28,
      "outputs": []
    },
    {
      "cell_type": "code",
      "metadata": {
        "id": "FfSufx0CEEZZ",
        "outputId": "62f45efd-3ca2-493c-aa4d-fd652630bf93",
        "colab": {
          "base_uri": "https://localhost:8080/",
          "height": 455
        }
      },
      "source": [
        "X_test_import = pd.read_csv('./test.csv')\n",
        "submission = pd.read_csv('./submission.csv', index_col='Id')\n",
        "\n",
        "submission['Churn'] = best_model.predict_proba(X_test_import)[:,-1]\n",
        "submission.to_csv('./submission_my_777.csv', index=False)\n",
        "submission"
      ],
      "execution_count": 29,
      "outputs": [
        {
          "output_type": "execute_result",
          "data": {
            "text/plain": [
              "         Churn\n",
              "Id            \n",
              "0     0.029082\n",
              "1     0.692618\n",
              "2     0.707039\n",
              "3     0.019058\n",
              "4     0.001456\n",
              "...        ...\n",
              "1756  0.080432\n",
              "1757  0.006848\n",
              "1758  0.855690\n",
              "1759  0.659860\n",
              "1760  0.002873\n",
              "\n",
              "[1761 rows x 1 columns]"
            ],
            "text/html": [
              "\n",
              "  <div id=\"df-7e512405-c394-45bb-91a2-77ee56db87c4\">\n",
              "    <div class=\"colab-df-container\">\n",
              "      <div>\n",
              "<style scoped>\n",
              "    .dataframe tbody tr th:only-of-type {\n",
              "        vertical-align: middle;\n",
              "    }\n",
              "\n",
              "    .dataframe tbody tr th {\n",
              "        vertical-align: top;\n",
              "    }\n",
              "\n",
              "    .dataframe thead th {\n",
              "        text-align: right;\n",
              "    }\n",
              "</style>\n",
              "<table border=\"1\" class=\"dataframe\">\n",
              "  <thead>\n",
              "    <tr style=\"text-align: right;\">\n",
              "      <th></th>\n",
              "      <th>Churn</th>\n",
              "    </tr>\n",
              "    <tr>\n",
              "      <th>Id</th>\n",
              "      <th></th>\n",
              "    </tr>\n",
              "  </thead>\n",
              "  <tbody>\n",
              "    <tr>\n",
              "      <th>0</th>\n",
              "      <td>0.029082</td>\n",
              "    </tr>\n",
              "    <tr>\n",
              "      <th>1</th>\n",
              "      <td>0.692618</td>\n",
              "    </tr>\n",
              "    <tr>\n",
              "      <th>2</th>\n",
              "      <td>0.707039</td>\n",
              "    </tr>\n",
              "    <tr>\n",
              "      <th>3</th>\n",
              "      <td>0.019058</td>\n",
              "    </tr>\n",
              "    <tr>\n",
              "      <th>4</th>\n",
              "      <td>0.001456</td>\n",
              "    </tr>\n",
              "    <tr>\n",
              "      <th>...</th>\n",
              "      <td>...</td>\n",
              "    </tr>\n",
              "    <tr>\n",
              "      <th>1756</th>\n",
              "      <td>0.080432</td>\n",
              "    </tr>\n",
              "    <tr>\n",
              "      <th>1757</th>\n",
              "      <td>0.006848</td>\n",
              "    </tr>\n",
              "    <tr>\n",
              "      <th>1758</th>\n",
              "      <td>0.855690</td>\n",
              "    </tr>\n",
              "    <tr>\n",
              "      <th>1759</th>\n",
              "      <td>0.659860</td>\n",
              "    </tr>\n",
              "    <tr>\n",
              "      <th>1760</th>\n",
              "      <td>0.002873</td>\n",
              "    </tr>\n",
              "  </tbody>\n",
              "</table>\n",
              "<p>1761 rows × 1 columns</p>\n",
              "</div>\n",
              "      <button class=\"colab-df-convert\" onclick=\"convertToInteractive('df-7e512405-c394-45bb-91a2-77ee56db87c4')\"\n",
              "              title=\"Convert this dataframe to an interactive table.\"\n",
              "              style=\"display:none;\">\n",
              "        \n",
              "  <svg xmlns=\"http://www.w3.org/2000/svg\" height=\"24px\"viewBox=\"0 0 24 24\"\n",
              "       width=\"24px\">\n",
              "    <path d=\"M0 0h24v24H0V0z\" fill=\"none\"/>\n",
              "    <path d=\"M18.56 5.44l.94 2.06.94-2.06 2.06-.94-2.06-.94-.94-2.06-.94 2.06-2.06.94zm-11 1L8.5 8.5l.94-2.06 2.06-.94-2.06-.94L8.5 2.5l-.94 2.06-2.06.94zm10 10l.94 2.06.94-2.06 2.06-.94-2.06-.94-.94-2.06-.94 2.06-2.06.94z\"/><path d=\"M17.41 7.96l-1.37-1.37c-.4-.4-.92-.59-1.43-.59-.52 0-1.04.2-1.43.59L10.3 9.45l-7.72 7.72c-.78.78-.78 2.05 0 2.83L4 21.41c.39.39.9.59 1.41.59.51 0 1.02-.2 1.41-.59l7.78-7.78 2.81-2.81c.8-.78.8-2.07 0-2.86zM5.41 20L4 18.59l7.72-7.72 1.47 1.35L5.41 20z\"/>\n",
              "  </svg>\n",
              "      </button>\n",
              "      \n",
              "  <style>\n",
              "    .colab-df-container {\n",
              "      display:flex;\n",
              "      flex-wrap:wrap;\n",
              "      gap: 12px;\n",
              "    }\n",
              "\n",
              "    .colab-df-convert {\n",
              "      background-color: #E8F0FE;\n",
              "      border: none;\n",
              "      border-radius: 50%;\n",
              "      cursor: pointer;\n",
              "      display: none;\n",
              "      fill: #1967D2;\n",
              "      height: 32px;\n",
              "      padding: 0 0 0 0;\n",
              "      width: 32px;\n",
              "    }\n",
              "\n",
              "    .colab-df-convert:hover {\n",
              "      background-color: #E2EBFA;\n",
              "      box-shadow: 0px 1px 2px rgba(60, 64, 67, 0.3), 0px 1px 3px 1px rgba(60, 64, 67, 0.15);\n",
              "      fill: #174EA6;\n",
              "    }\n",
              "\n",
              "    [theme=dark] .colab-df-convert {\n",
              "      background-color: #3B4455;\n",
              "      fill: #D2E3FC;\n",
              "    }\n",
              "\n",
              "    [theme=dark] .colab-df-convert:hover {\n",
              "      background-color: #434B5C;\n",
              "      box-shadow: 0px 1px 3px 1px rgba(0, 0, 0, 0.15);\n",
              "      filter: drop-shadow(0px 1px 2px rgba(0, 0, 0, 0.3));\n",
              "      fill: #FFFFFF;\n",
              "    }\n",
              "  </style>\n",
              "\n",
              "      <script>\n",
              "        const buttonEl =\n",
              "          document.querySelector('#df-7e512405-c394-45bb-91a2-77ee56db87c4 button.colab-df-convert');\n",
              "        buttonEl.style.display =\n",
              "          google.colab.kernel.accessAllowed ? 'block' : 'none';\n",
              "\n",
              "        async function convertToInteractive(key) {\n",
              "          const element = document.querySelector('#df-7e512405-c394-45bb-91a2-77ee56db87c4');\n",
              "          const dataTable =\n",
              "            await google.colab.kernel.invokeFunction('convertToInteractive',\n",
              "                                                     [key], {});\n",
              "          if (!dataTable) return;\n",
              "\n",
              "          const docLinkHtml = 'Like what you see? Visit the ' +\n",
              "            '<a target=\"_blank\" href=https://colab.research.google.com/notebooks/data_table.ipynb>data table notebook</a>'\n",
              "            + ' to learn more about interactive tables.';\n",
              "          element.innerHTML = '';\n",
              "          dataTable['output_type'] = 'display_data';\n",
              "          await google.colab.output.renderOutput(dataTable, element);\n",
              "          const docLink = document.createElement('div');\n",
              "          docLink.innerHTML = docLinkHtml;\n",
              "          element.appendChild(docLink);\n",
              "        }\n",
              "      </script>\n",
              "    </div>\n",
              "  </div>\n",
              "  "
            ]
          },
          "metadata": {},
          "execution_count": 29
        }
      ]
    },
    {
      "cell_type": "markdown",
      "source": [
        "Лучшее решение отправьте в Stepik."
      ],
      "metadata": {
        "id": "tzGirrp5l2I-"
      }
    }
  ]
}